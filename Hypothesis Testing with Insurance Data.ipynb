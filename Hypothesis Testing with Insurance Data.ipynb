{
 "cells": [
  {
   "cell_type": "markdown",
   "id": "24dae8af",
   "metadata": {},
   "source": [
    "# ***Hypothesis Testing with Insurance Data***"
   ]
  },
  {
   "cell_type": "code",
   "execution_count": 162,
   "id": "aba4f90a",
   "metadata": {},
   "outputs": [],
   "source": [
    "# Import Libraries:\n",
    "\n",
    "import pandas as pd\n",
    "import numpy as np\n",
    "import matplotlib.pyplot as plt\n",
    "import seaborn as sns\n",
    "from sklearn.preprocessing import StandardScaler\n",
    "from scipy import stats"
   ]
  },
  {
   "cell_type": "code",
   "execution_count": 163,
   "id": "b7f14951",
   "metadata": {
    "scrolled": true
   },
   "outputs": [
    {
     "data": {
      "text/html": [
       "<div>\n",
       "<style scoped>\n",
       "    .dataframe tbody tr th:only-of-type {\n",
       "        vertical-align: middle;\n",
       "    }\n",
       "\n",
       "    .dataframe tbody tr th {\n",
       "        vertical-align: top;\n",
       "    }\n",
       "\n",
       "    .dataframe thead th {\n",
       "        text-align: right;\n",
       "    }\n",
       "</style>\n",
       "<table border=\"1\" class=\"dataframe\">\n",
       "  <thead>\n",
       "    <tr style=\"text-align: right;\">\n",
       "      <th></th>\n",
       "      <th>age</th>\n",
       "      <th>sex</th>\n",
       "      <th>bmi</th>\n",
       "      <th>children</th>\n",
       "      <th>smoker</th>\n",
       "      <th>region</th>\n",
       "      <th>charges</th>\n",
       "    </tr>\n",
       "  </thead>\n",
       "  <tbody>\n",
       "    <tr>\n",
       "      <th>0</th>\n",
       "      <td>19</td>\n",
       "      <td>female</td>\n",
       "      <td>27.900</td>\n",
       "      <td>0</td>\n",
       "      <td>yes</td>\n",
       "      <td>southwest</td>\n",
       "      <td>16884.92400</td>\n",
       "    </tr>\n",
       "    <tr>\n",
       "      <th>1</th>\n",
       "      <td>18</td>\n",
       "      <td>male</td>\n",
       "      <td>33.770</td>\n",
       "      <td>1</td>\n",
       "      <td>no</td>\n",
       "      <td>southeast</td>\n",
       "      <td>1725.55230</td>\n",
       "    </tr>\n",
       "    <tr>\n",
       "      <th>2</th>\n",
       "      <td>28</td>\n",
       "      <td>male</td>\n",
       "      <td>33.000</td>\n",
       "      <td>3</td>\n",
       "      <td>no</td>\n",
       "      <td>southeast</td>\n",
       "      <td>4449.46200</td>\n",
       "    </tr>\n",
       "    <tr>\n",
       "      <th>3</th>\n",
       "      <td>33</td>\n",
       "      <td>male</td>\n",
       "      <td>22.705</td>\n",
       "      <td>0</td>\n",
       "      <td>no</td>\n",
       "      <td>northwest</td>\n",
       "      <td>21984.47061</td>\n",
       "    </tr>\n",
       "    <tr>\n",
       "      <th>4</th>\n",
       "      <td>32</td>\n",
       "      <td>male</td>\n",
       "      <td>28.880</td>\n",
       "      <td>0</td>\n",
       "      <td>no</td>\n",
       "      <td>northwest</td>\n",
       "      <td>3866.85520</td>\n",
       "    </tr>\n",
       "  </tbody>\n",
       "</table>\n",
       "</div>"
      ],
      "text/plain": [
       "   age     sex     bmi  children smoker     region      charges\n",
       "0   19  female  27.900         0    yes  southwest  16884.92400\n",
       "1   18    male  33.770         1     no  southeast   1725.55230\n",
       "2   28    male  33.000         3     no  southeast   4449.46200\n",
       "3   33    male  22.705         0     no  northwest  21984.47061\n",
       "4   32    male  28.880         0     no  northwest   3866.85520"
      ]
     },
     "execution_count": 163,
     "metadata": {},
     "output_type": "execute_result"
    }
   ],
   "source": [
    "# load Data:\n",
    "\n",
    "df = pd.read_csv('C:\\\\Users\\jnate\\\\OneDrive\\\\Documents\\\\Data Enrichment\\\\data-enrichment-wk15\\\\Hypothesis-Testing-\\\\insurance - insurance.csv')\n",
    "\n",
    "df.head(5)"
   ]
  },
  {
   "cell_type": "code",
   "execution_count": 164,
   "id": "ffd91130",
   "metadata": {},
   "outputs": [],
   "source": [
    "# Remove rows with null values\n",
    "\n",
    "df.dropna(inplace =True)"
   ]
  },
  {
   "cell_type": "code",
   "execution_count": 165,
   "id": "14e41023",
   "metadata": {},
   "outputs": [
    {
     "data": {
      "text/plain": [
       "age         0\n",
       "sex         0\n",
       "bmi         0\n",
       "children    0\n",
       "smoker      0\n",
       "region      0\n",
       "charges     0\n",
       "dtype: int64"
      ]
     },
     "execution_count": 165,
     "metadata": {},
     "output_type": "execute_result"
    }
   ],
   "source": [
    "# Check for missing values:\n",
    "\n",
    "df.isna().sum()"
   ]
  },
  {
   "cell_type": "markdown",
   "id": "23b556ab",
   "metadata": {},
   "source": [
    "# Q1. Do smokers have higher insurance charges than non-smokers?"
   ]
  },
  {
   "cell_type": "markdown",
   "id": "11f125b7",
   "metadata": {},
   "source": [
    "***1. State your Null Hypothesis and Alternative Hypothesis:****\n",
    "\n",
    "***$H_0$: Smokers pay the same in insurance as non smokers.***\n",
    "\n",
    "***$H_A$: Smokers pay more in insurance than non smokers.*** "
   ]
  },
  {
   "cell_type": "markdown",
   "id": "71d620f7",
   "metadata": {},
   "source": [
    "***2. Select the correct test according to the data type and number of samples.***"
   ]
  },
  {
   "cell_type": "markdown",
   "id": "0fc2079b",
   "metadata": {},
   "source": [
    "Type of comparison: 2 samples\n",
    "\n",
    "Data type: Numeric\n",
    "\n",
    "Hypothesis Test: ***2 Sample T-Test***"
   ]
  },
  {
   "cell_type": "code",
   "execution_count": 166,
   "id": "5c58d998",
   "metadata": {},
   "outputs": [
    {
     "data": {
      "text/html": [
       "<div>\n",
       "<style scoped>\n",
       "    .dataframe tbody tr th:only-of-type {\n",
       "        vertical-align: middle;\n",
       "    }\n",
       "\n",
       "    .dataframe tbody tr th {\n",
       "        vertical-align: top;\n",
       "    }\n",
       "\n",
       "    .dataframe thead th {\n",
       "        text-align: right;\n",
       "    }\n",
       "</style>\n",
       "<table border=\"1\" class=\"dataframe\">\n",
       "  <thead>\n",
       "    <tr style=\"text-align: right;\">\n",
       "      <th></th>\n",
       "      <th>charges</th>\n",
       "    </tr>\n",
       "  </thead>\n",
       "  <tbody>\n",
       "    <tr>\n",
       "      <th>0</th>\n",
       "      <td>16884.9240</td>\n",
       "    </tr>\n",
       "    <tr>\n",
       "      <th>11</th>\n",
       "      <td>27808.7251</td>\n",
       "    </tr>\n",
       "    <tr>\n",
       "      <th>14</th>\n",
       "      <td>39611.7577</td>\n",
       "    </tr>\n",
       "    <tr>\n",
       "      <th>19</th>\n",
       "      <td>36837.4670</td>\n",
       "    </tr>\n",
       "    <tr>\n",
       "      <th>23</th>\n",
       "      <td>37701.8768</td>\n",
       "    </tr>\n",
       "  </tbody>\n",
       "</table>\n",
       "</div>"
      ],
      "text/plain": [
       "       charges\n",
       "0   16884.9240\n",
       "11  27808.7251\n",
       "14  39611.7577\n",
       "19  36837.4670\n",
       "23  37701.8768"
      ]
     },
     "execution_count": 166,
     "metadata": {},
     "output_type": "execute_result"
    }
   ],
   "source": [
    "# Required columns:\n",
    "\n",
    "requiredcols = ['charges']\n",
    "\n",
    "\n",
    "# Separation of smokers an non smokers:\n",
    "\n",
    "smokersdf = df.loc[df['smoker']=='yes', requiredcols].copy()\n",
    "nonsmokersdf = df.loc[df['smoker']=='no', requiredcols].copy()\n",
    "\n",
    "smokersdf.head()"
   ]
  },
  {
   "cell_type": "code",
   "execution_count": 167,
   "id": "e8a477fc",
   "metadata": {},
   "outputs": [
    {
     "data": {
      "text/html": [
       "<div>\n",
       "<style scoped>\n",
       "    .dataframe tbody tr th:only-of-type {\n",
       "        vertical-align: middle;\n",
       "    }\n",
       "\n",
       "    .dataframe tbody tr th {\n",
       "        vertical-align: top;\n",
       "    }\n",
       "\n",
       "    .dataframe thead th {\n",
       "        text-align: right;\n",
       "    }\n",
       "</style>\n",
       "<table border=\"1\" class=\"dataframe\">\n",
       "  <thead>\n",
       "    <tr style=\"text-align: right;\">\n",
       "      <th></th>\n",
       "      <th>charges</th>\n",
       "    </tr>\n",
       "  </thead>\n",
       "  <tbody>\n",
       "    <tr>\n",
       "      <th>1</th>\n",
       "      <td>1725.55230</td>\n",
       "    </tr>\n",
       "    <tr>\n",
       "      <th>2</th>\n",
       "      <td>4449.46200</td>\n",
       "    </tr>\n",
       "    <tr>\n",
       "      <th>3</th>\n",
       "      <td>21984.47061</td>\n",
       "    </tr>\n",
       "    <tr>\n",
       "      <th>4</th>\n",
       "      <td>3866.85520</td>\n",
       "    </tr>\n",
       "    <tr>\n",
       "      <th>5</th>\n",
       "      <td>3756.62160</td>\n",
       "    </tr>\n",
       "  </tbody>\n",
       "</table>\n",
       "</div>"
      ],
      "text/plain": [
       "       charges\n",
       "1   1725.55230\n",
       "2   4449.46200\n",
       "3  21984.47061\n",
       "4   3866.85520\n",
       "5   3756.62160"
      ]
     },
     "execution_count": 167,
     "metadata": {},
     "output_type": "execute_result"
    }
   ],
   "source": [
    "nonsmokersdf.head()"
   ]
  },
  {
   "cell_type": "code",
   "execution_count": 168,
   "id": "4315f8e8",
   "metadata": {},
   "outputs": [
    {
     "data": {
      "text/plain": [
       "charges    \n",
       "1639.56310     2\n",
       "1121.87390     1\n",
       "10085.84600    1\n",
       "9866.30485     1\n",
       "9869.81020     1\n",
       "              ..\n",
       "5012.47100     1\n",
       "5028.14660     1\n",
       "5031.26955     1\n",
       "5080.09600     1\n",
       "36910.60803    1\n",
       "Length: 1063, dtype: int64"
      ]
     },
     "execution_count": 168,
     "metadata": {},
     "output_type": "execute_result"
    }
   ],
   "source": [
    "nonsmokersdf.value_counts()"
   ]
  },
  {
   "cell_type": "markdown",
   "id": "644fb955",
   "metadata": {},
   "source": [
    "***3. Test the assumptions of your selected test.***\n",
    "- No significant outliers\n",
    "- Normality\n",
    "- Equal Variance"
   ]
  },
  {
   "cell_type": "markdown",
   "id": "16453bc5",
   "metadata": {},
   "source": [
    "### ***Outliers Test***"
   ]
  },
  {
   "cell_type": "code",
   "execution_count": 169,
   "id": "23084657",
   "metadata": {},
   "outputs": [],
   "source": [
    "# Check for and remove outliers as required:\n",
    "\n",
    "# Savings jsut the numeric column as final group variable:\n",
    "\n",
    "smokers = smokersdf['charges'].copy()\n",
    "nonsmokers = nonsmokersdf['charges'].copy()\n",
    "\n",
    "# Import additional libraries:\n",
    "import numpy as np\n",
    "from scipy.stats import stats"
   ]
  },
  {
   "cell_type": "code",
   "execution_count": 170,
   "id": "86e69949",
   "metadata": {},
   "outputs": [
    {
     "data": {
      "text/plain": [
       "False    274\n",
       "Name: charges, dtype: int64"
      ]
     },
     "execution_count": 170,
     "metadata": {},
     "output_type": "execute_result"
    }
   ],
   "source": [
    "# Check for outliers using Z-score:\n",
    "\n",
    "smokers_out = np.abs(stats.zscore(smokers))>3\n",
    "smokers_out.value_counts()"
   ]
  },
  {
   "cell_type": "code",
   "execution_count": 171,
   "id": "3021a9bb",
   "metadata": {},
   "outputs": [
    {
     "data": {
      "text/plain": [
       "False    1040\n",
       "True       24\n",
       "Name: charges, dtype: int64"
      ]
     },
     "execution_count": 171,
     "metadata": {},
     "output_type": "execute_result"
    }
   ],
   "source": [
    "# Check for outliers using Z-score:\n",
    "\n",
    "nonsmokers_out = np.abs(stats.zscore(nonsmokers))>3\n",
    "nonsmokers_out.value_counts()"
   ]
  },
  {
   "cell_type": "code",
   "execution_count": 172,
   "id": "7466e5d1",
   "metadata": {},
   "outputs": [],
   "source": [
    "# Remove outliers:\n",
    "\n",
    "final_smokers = smokers[-smokers_out]\n",
    "final_nonsmokers = nonsmokers[-nonsmokers_out]"
   ]
  },
  {
   "cell_type": "markdown",
   "id": "97dbe805",
   "metadata": {},
   "source": [
    "### ***Normality Test***"
   ]
  },
  {
   "cell_type": "code",
   "execution_count": 173,
   "id": "aad8859e",
   "metadata": {},
   "outputs": [
    {
     "data": {
      "text/plain": [
       "NormaltestResult(statistic=61.03941356533816, pvalue=5.564930630036463e-14)"
      ]
     },
     "execution_count": 173,
     "metadata": {},
     "output_type": "execute_result"
    }
   ],
   "source": [
    "# Normality test for smokers group:\n",
    "\n",
    "smokeNT = stats.normaltest(final_smokers)\n",
    "smokeNT"
   ]
  },
  {
   "cell_type": "code",
   "execution_count": 174,
   "id": "b1a2eb3e",
   "metadata": {},
   "outputs": [
    {
     "data": {
      "text/plain": [
       "274"
      ]
     },
     "execution_count": 174,
     "metadata": {},
     "output_type": "execute_result"
    }
   ],
   "source": [
    "# Check number of smaples for smokers group:\n",
    "\n",
    "len(final_smokers)"
   ]
  },
  {
   "cell_type": "code",
   "execution_count": 175,
   "id": "244a6fb9",
   "metadata": {},
   "outputs": [
    {
     "data": {
      "text/plain": [
       "NormaltestResult(statistic=163.80367047789198, pvalue=2.6945416315543976e-36)"
      ]
     },
     "execution_count": 175,
     "metadata": {},
     "output_type": "execute_result"
    }
   ],
   "source": [
    "# Normality test for nonsmokers group:\n",
    "\n",
    "nonsmokeNT = stats.normaltest(final_nonsmokers)\n",
    "nonsmokeNT"
   ]
  },
  {
   "cell_type": "code",
   "execution_count": 176,
   "id": "50172c59",
   "metadata": {},
   "outputs": [
    {
     "data": {
      "text/plain": [
       "1040"
      ]
     },
     "execution_count": 176,
     "metadata": {},
     "output_type": "execute_result"
    }
   ],
   "source": [
    "# Check number of smaples for smokers group:\n",
    "\n",
    "len(final_nonsmokers)"
   ]
  },
  {
   "cell_type": "markdown",
   "id": "45c07150",
   "metadata": {},
   "source": [
    "### Interpretation:\n",
    "\n",
    "$smokers_p$: 5.565x10^{-14}\n",
    "\n",
    "$smokers_n$: 274\n",
    "\n",
    "$nonsmokers_p$: 2.70x10^{-36}\n",
    "\n",
    "$nonsmokers_n$: 1040: \n",
    "\n",
    "p-values for both group are far below 0.05, meaning that our data is NOT normally distributed. This is not an issue however, because we have sample sizes of 274 and 1040, both of which are well above the 15 sample minimum requirement for an independent t test. We can proceed without normalized data."
   ]
  },
  {
   "cell_type": "markdown",
   "id": "c6d2e9c0",
   "metadata": {},
   "source": [
    "***4. Execute the selected test, or the alternative test (if you do not meet the assumptions)***"
   ]
  },
  {
   "cell_type": "markdown",
   "id": "af3307f0",
   "metadata": {},
   "source": [
    "### ***Equal Variance Test***"
   ]
  },
  {
   "cell_type": "code",
   "execution_count": 177,
   "id": "dbbe250e",
   "metadata": {},
   "outputs": [
    {
     "data": {
      "text/plain": [
       "True"
      ]
     },
     "execution_count": 177,
     "metadata": {},
     "output_type": "execute_result"
    }
   ],
   "source": [
    "import numpy as np\n",
    "from scipy import stats\n",
    "\n",
    "# Levene's test for equal variance:\n",
    "\n",
    "smokeLT = stats.levene(final_smokers, final_nonsmokers)\n",
    "smokeLT\n",
    "\n",
    "\n",
    "smokeLT.pvalue<0.05"
   ]
  },
  {
   "cell_type": "code",
   "execution_count": 178,
   "id": "bcad6467",
   "metadata": {},
   "outputs": [
    {
     "name": "stdout",
     "output_type": "stream",
     "text": [
      "The groups ***DO NOT*** have equal variance\n"
     ]
    }
   ],
   "source": [
    "# If-else to interpret the p-value:\n",
    "\n",
    "if smokeLT.pvalue < 0.05:\n",
    "    print('The groups ***DO NOT*** have equal variance')\n",
    "    \n",
    "else:\n",
    "    print('The groups ***DO*** have equal variance')"
   ]
  },
  {
   "cell_type": "markdown",
   "id": "90e6166b",
   "metadata": {},
   "source": [
    "### Interpretation:\n",
    "We will need to use a Welch's T test because the assumption of equal variance was inaccurate."
   ]
  },
  {
   "cell_type": "code",
   "execution_count": 179,
   "id": "5d1668bc",
   "metadata": {},
   "outputs": [
    {
     "data": {
      "text/plain": [
       "Ttest_indResult(statistic=33.732305987092516, pvalue=2.575322662587431e-104)"
      ]
     },
     "execution_count": 179,
     "metadata": {},
     "output_type": "execute_result"
    }
   ],
   "source": [
    "# Welch's T-Test because of unequal variance:\n",
    "\n",
    "WTT = stats.ttest_ind(final_smokers, final_nonsmokers, equal_var = False)\n",
    "WTT"
   ]
  },
  {
   "cell_type": "code",
   "execution_count": 180,
   "id": "c12f7451",
   "metadata": {},
   "outputs": [
    {
     "name": "stdout",
     "output_type": "stream",
     "text": [
      "True\n"
     ]
    }
   ],
   "source": [
    "# Interpretation of final pvalue:\n",
    "\n",
    "# Check for high significance : \n",
    "\n",
    "print(WTT.pvalue<0.0001)"
   ]
  },
  {
   "cell_type": "markdown",
   "id": "641c863c",
   "metadata": {},
   "source": [
    "***5. Interpret your p-value and reject or fail to reject your null hypothesis*** "
   ]
  },
  {
   "cell_type": "markdown",
   "id": "0b97c9c8",
   "metadata": {},
   "source": [
    "## Final Conclusion:\n",
    "\n",
    "p is less than alpha so we will reject the null hypothesis , that states that \"Smokers pay the same in insurance as non smokers.\" There is a significant difference between the groups:Smokers pay more in insurance than non smokers."
   ]
  },
  {
   "cell_type": "markdown",
   "id": "22207081",
   "metadata": {},
   "source": [
    "***6. Show a supporting visualization that helps display the result***"
   ]
  },
  {
   "cell_type": "code",
   "execution_count": 181,
   "id": "b330dce5",
   "metadata": {
    "scrolled": true
   },
   "outputs": [
    {
     "data": {
      "image/png": "[encoded data removed]",
      "text/plain": [
       "<Figure size 864x576 with 2 Axes>"
      ]
     },
     "metadata": {
      "needs_background": "light"
     },
     "output_type": "display_data"
    }
   ],
   "source": [
    "import seaborn as sns\n",
    "import matplotlib.pyplot as plt\n",
    "\n",
    "fig, axes = plt.subplots(nrows = 1, ncols = 2, sharey = True, figsize = (12,8))\n",
    "\n",
    "a = sns.barplot(data = smokersdf, y = 'charges', ax= axes[0], color = '#3f007d', alpha =.6);\n",
    "b = sns.barplot(data = nonsmokersdf, y = 'charges', ax = axes[1], color = '#ae017e');\n",
    "plt.xlabel('\\nNon Smokers', fontsize = 16);"
   ]
  },
  {
   "cell_type": "markdown",
   "id": "db8aa7fb",
   "metadata": {},
   "source": [
    "## Interpretation:\n",
    "\n",
    "We can clearly see that smokers pay far more in insurance than non smokers. "
   ]
  },
  {
   "cell_type": "markdown",
   "id": "827d51bd",
   "metadata": {},
   "source": [
    "# Q2. Are men more likely to smoke than women?"
   ]
  },
  {
   "cell_type": "markdown",
   "id": "c5a312fc",
   "metadata": {},
   "source": [
    "***1. State your Null Hypothesis and Alternative Hypothesis:***\n",
    "\n",
    "$𝐻_0$ : Men are not more likely to smoke than women - they are equally likely.\n",
    "\n",
    "$𝐻_𝐴$ : Men are more likely to smoke than women."
   ]
  },
  {
   "cell_type": "markdown",
   "id": "61ff016b",
   "metadata": {},
   "source": [
    "***2. Select the correct test according to the data type and number of samples.***\n",
    "\n",
    "Type of comparison: 2 samples\n",
    "\n",
    "Data type: Categorical\n",
    "\n",
    "Hypothesis Test: Chi-squared (x^2) Test"
   ]
  },
  {
   "cell_type": "markdown",
   "id": "8d8e0ef9",
   "metadata": {},
   "source": [
    "***3. Test the assumptions of your selected test.***\n",
    "\n",
    "- There are two categorical variables (ordinal or nominal)\n",
    "- The outcomes are independent"
   ]
  },
  {
   "cell_type": "code",
   "execution_count": 182,
   "id": "3f9e0e95",
   "metadata": {},
   "outputs": [
    {
     "data": {
      "text/html": [
       "<div>\n",
       "<style scoped>\n",
       "    .dataframe tbody tr th:only-of-type {\n",
       "        vertical-align: middle;\n",
       "    }\n",
       "\n",
       "    .dataframe tbody tr th {\n",
       "        vertical-align: top;\n",
       "    }\n",
       "\n",
       "    .dataframe thead th {\n",
       "        text-align: right;\n",
       "    }\n",
       "</style>\n",
       "<table border=\"1\" class=\"dataframe\">\n",
       "  <thead>\n",
       "    <tr style=\"text-align: right;\">\n",
       "      <th></th>\n",
       "      <th>age</th>\n",
       "      <th>sex</th>\n",
       "      <th>bmi</th>\n",
       "      <th>children</th>\n",
       "      <th>smoker</th>\n",
       "      <th>region</th>\n",
       "      <th>charges</th>\n",
       "    </tr>\n",
       "  </thead>\n",
       "  <tbody>\n",
       "    <tr>\n",
       "      <th>0</th>\n",
       "      <td>19</td>\n",
       "      <td>female</td>\n",
       "      <td>27.900</td>\n",
       "      <td>0</td>\n",
       "      <td>yes</td>\n",
       "      <td>southwest</td>\n",
       "      <td>16884.92400</td>\n",
       "    </tr>\n",
       "    <tr>\n",
       "      <th>1</th>\n",
       "      <td>18</td>\n",
       "      <td>male</td>\n",
       "      <td>33.770</td>\n",
       "      <td>1</td>\n",
       "      <td>no</td>\n",
       "      <td>southeast</td>\n",
       "      <td>1725.55230</td>\n",
       "    </tr>\n",
       "    <tr>\n",
       "      <th>2</th>\n",
       "      <td>28</td>\n",
       "      <td>male</td>\n",
       "      <td>33.000</td>\n",
       "      <td>3</td>\n",
       "      <td>no</td>\n",
       "      <td>southeast</td>\n",
       "      <td>4449.46200</td>\n",
       "    </tr>\n",
       "    <tr>\n",
       "      <th>3</th>\n",
       "      <td>33</td>\n",
       "      <td>male</td>\n",
       "      <td>22.705</td>\n",
       "      <td>0</td>\n",
       "      <td>no</td>\n",
       "      <td>northwest</td>\n",
       "      <td>21984.47061</td>\n",
       "    </tr>\n",
       "    <tr>\n",
       "      <th>4</th>\n",
       "      <td>32</td>\n",
       "      <td>male</td>\n",
       "      <td>28.880</td>\n",
       "      <td>0</td>\n",
       "      <td>no</td>\n",
       "      <td>northwest</td>\n",
       "      <td>3866.85520</td>\n",
       "    </tr>\n",
       "  </tbody>\n",
       "</table>\n",
       "</div>"
      ],
      "text/plain": [
       "   age     sex     bmi  children smoker     region      charges\n",
       "0   19  female  27.900         0    yes  southwest  16884.92400\n",
       "1   18    male  33.770         1     no  southeast   1725.55230\n",
       "2   28    male  33.000         3     no  southeast   4449.46200\n",
       "3   33    male  22.705         0     no  northwest  21984.47061\n",
       "4   32    male  28.880         0     no  northwest   3866.85520"
      ]
     },
     "execution_count": 182,
     "metadata": {},
     "output_type": "execute_result"
    }
   ],
   "source": [
    "df.head()"
   ]
  },
  {
   "cell_type": "code",
   "execution_count": 183,
   "id": "0b00aa72",
   "metadata": {},
   "outputs": [
    {
     "data": {
      "text/html": [
       "<div>\n",
       "<style scoped>\n",
       "    .dataframe tbody tr th:only-of-type {\n",
       "        vertical-align: middle;\n",
       "    }\n",
       "\n",
       "    .dataframe tbody tr th {\n",
       "        vertical-align: top;\n",
       "    }\n",
       "\n",
       "    .dataframe thead th {\n",
       "        text-align: right;\n",
       "    }\n",
       "</style>\n",
       "<table border=\"1\" class=\"dataframe\">\n",
       "  <thead>\n",
       "    <tr style=\"text-align: right;\">\n",
       "      <th>smoker</th>\n",
       "      <th>no</th>\n",
       "      <th>yes</th>\n",
       "    </tr>\n",
       "    <tr>\n",
       "      <th>sex</th>\n",
       "      <th></th>\n",
       "      <th></th>\n",
       "    </tr>\n",
       "  </thead>\n",
       "  <tbody>\n",
       "    <tr>\n",
       "      <th>female</th>\n",
       "      <td>547</td>\n",
       "      <td>115</td>\n",
       "    </tr>\n",
       "    <tr>\n",
       "      <th>male</th>\n",
       "      <td>517</td>\n",
       "      <td>159</td>\n",
       "    </tr>\n",
       "  </tbody>\n",
       "</table>\n",
       "</div>"
      ],
      "text/plain": [
       "smoker   no  yes\n",
       "sex             \n",
       "female  547  115\n",
       "male    517  159"
      ]
     },
     "execution_count": 183,
     "metadata": {},
     "output_type": "execute_result"
    }
   ],
   "source": [
    "# Calculate the contingency table with pd.cross-tab:\n",
    "\n",
    "ct = pd.crosstab(df['sex'], df['smoker'])\n",
    "ct"
   ]
  },
  {
   "cell_type": "markdown",
   "id": "7402a1e2",
   "metadata": {},
   "source": [
    "## Interpretation:\n",
    "\n",
    "The two nominal categories are male and female, however the outcomes do not appear to be independent."
   ]
  },
  {
   "cell_type": "markdown",
   "id": "a1654b1b",
   "metadata": {},
   "source": [
    "***4. Execute the selected test, or the alternative test (if you do not meet the assumptions)***"
   ]
  },
  {
   "cell_type": "code",
   "execution_count": 184,
   "id": "0785cd2f",
   "metadata": {},
   "outputs": [
    {
     "name": "stdout",
     "output_type": "stream",
     "text": [
      "0.006548143503580696\n"
     ]
    },
    {
     "data": {
      "text/plain": [
       "True"
      ]
     },
     "execution_count": 184,
     "metadata": {},
     "output_type": "execute_result"
    }
   ],
   "source": [
    "# Run the Test and Save the Output:\n",
    "\n",
    "tr = stats.chi2_contingency(ct)\n",
    "chi2, p, deg_free, expected_vals = tr \n",
    "\n",
    "# Print p value:\n",
    "\n",
    "print(p)\n",
    "p<.05"
   ]
  },
  {
   "cell_type": "markdown",
   "id": "d44c14ea",
   "metadata": {},
   "source": [
    "***5. Interpret your p-value and reject or fail to reject your null hypothesis***"
   ]
  },
  {
   "cell_type": "markdown",
   "id": "ace0ed6e",
   "metadata": {},
   "source": [
    "## Final Conclusion:\n",
    "\n",
    "At 6.55x10^{10-3} which is smaller than 0.03 our  p value is significant. We can reject the null hypothesis with confidence: men ***ARE*** more likley to smoke than women are. "
   ]
  },
  {
   "cell_type": "code",
   "execution_count": 185,
   "id": "0b7cbc66",
   "metadata": {},
   "outputs": [
    {
     "data": {
      "image/png": "[encoded data removed]",
      "text/plain": [
       "<Figure size 864x576 with 1 Axes>"
      ]
     },
     "metadata": {
      "needs_background": "light"
     },
     "output_type": "display_data"
    }
   ],
   "source": [
    "import seaborn as sns\n",
    "import matplotlib.pyplot as plt\n",
    "\n",
    "fig, axes = plt.subplots(nrows = 1, ncols = 1, sharey = True, figsize = (12,8))\n",
    "\n",
    "ax = sns.countplot(data=df, x='sex',hue='smoker',)\n",
    "ax.set_title(\"Smokers by Sex\\n\", fontsize =20);\n",
    "plt.xlabel('\\nSex', fontsize = 16);"
   ]
  },
  {
   "cell_type": "markdown",
   "id": "26fce665",
   "metadata": {},
   "source": [
    "## Interpretation:\n",
    "\n",
    "It is evident that men are more likely to be smokers."
   ]
  },
  {
   "cell_type": "markdown",
   "id": "7ba2bf60",
   "metadata": {},
   "source": [
    "# Q3. Do different regions have different charges, on average?"
   ]
  },
  {
   "cell_type": "markdown",
   "id": "a4b5b5c7",
   "metadata": {},
   "source": [
    "***1. State your Null Hypothesis and Alternative Hypothesis:***\n",
    "\n",
    "$𝐻_0$  : Charges do not change significantly across differnet regions.\n",
    "\n",
    "$𝐻_𝐴$  : Charges vary significantly from region to region."
   ]
  },
  {
   "cell_type": "markdown",
   "id": "a96a84b2",
   "metadata": {},
   "source": [
    "***2. Select the correct test according to the data type and number of samples.***\n",
    "\n",
    "Type of comparison: 2 samples\n",
    "\n",
    "Data type: Numeric\n",
    "\n",
    "Hypothesis Test: Chi-squared (x^2) Test"
   ]
  },
  {
   "cell_type": "markdown",
   "id": "234e385e",
   "metadata": {},
   "source": [
    "***3. Test the assumptions of your selected test.***\n",
    "- No significant outliers\n",
    "- Normality\n",
    "- Equal Variance"
   ]
  },
  {
   "cell_type": "code",
   "execution_count": 186,
   "id": "c1b984f1",
   "metadata": {},
   "outputs": [
    {
     "data": {
      "text/plain": [
       "southeast    364\n",
       "southwest    325\n",
       "northwest    325\n",
       "northeast    324\n",
       "Name: region, dtype: int64"
      ]
     },
     "execution_count": 186,
     "metadata": {},
     "output_type": "execute_result"
    }
   ],
   "source": [
    "# Check for total number of regions:\n",
    "\n",
    "df['region'].value_counts()"
   ]
  },
  {
   "cell_type": "code",
   "execution_count": 187,
   "id": "3cf012be",
   "metadata": {},
   "outputs": [
    {
     "data": {
      "text/plain": [
       "dict_keys(['southwest', 'southeast', 'northwest', 'northeast'])"
      ]
     },
     "execution_count": 187,
     "metadata": {},
     "output_type": "execute_result"
    }
   ],
   "source": [
    "# Create dictionary for the various regions:\n",
    "\n",
    "regions = {}\n",
    "\n",
    "# Loop through column to get the unique designations:\n",
    "\n",
    "for i in df['region'].unique():\n",
    "    # Get series for group and rename:\n",
    "    data = df.loc[df['region']==i, 'charges'].copy()\n",
    "    \n",
    "    # Append dictionary:\n",
    "    regions[i] = data\n",
    "regions.keys()"
   ]
  },
  {
   "cell_type": "code",
   "execution_count": 205,
   "id": "2f039891",
   "metadata": {},
   "outputs": [
    {
     "data": {
      "text/plain": [
       "{'southwest': 0       16884.92400\n",
       " 12       1826.84300\n",
       " 15       1837.23700\n",
       " 18      10602.38500\n",
       " 19      36837.46700\n",
       "            ...     \n",
       " 1316     1731.67700\n",
       " 1329    10325.20600\n",
       " 1331    10795.93733\n",
       " 1332    11411.68500\n",
       " 1336     2007.94500\n",
       " Name: charges, Length: 325, dtype: float64,\n",
       " 'southeast': 1        1725.5523\n",
       " 2        4449.4620\n",
       " 5        3756.6216\n",
       " 6        8240.5896\n",
       " 11      27808.7251\n",
       "            ...    \n",
       " 1322    12981.3457\n",
       " 1323    43896.3763\n",
       " 1327     9377.9047\n",
       " 1330    12629.1656\n",
       " 1335     1629.8335\n",
       " Name: charges, Length: 364, dtype: float64,\n",
       " 'northwest': 3       21984.47061\n",
       " 4        3866.85520\n",
       " 7        7281.50560\n",
       " 9       28923.13692\n",
       " 24       6203.90175\n",
       "            ...     \n",
       " 1319     7201.70085\n",
       " 1320     5425.02335\n",
       " 1324     4239.89265\n",
       " 1333    10600.54830\n",
       " 1337    29141.36030\n",
       " Name: charges, Length: 325, dtype: float64,\n",
       " 'northeast': 8        6406.41070\n",
       " 10       2721.32080\n",
       " 16      10797.33620\n",
       " 17       2395.17155\n",
       " 20      13228.84695\n",
       "            ...     \n",
       " 1321    28101.33305\n",
       " 1325    13143.33665\n",
       " 1326     7050.02130\n",
       " 1328    22395.74424\n",
       " 1334     2205.98080\n",
       " Name: charges, Length: 324, dtype: float64}"
      ]
     },
     "execution_count": 205,
     "metadata": {},
     "output_type": "execute_result"
    }
   ],
   "source": [
    "regions"
   ]
  },
  {
   "cell_type": "markdown",
   "id": "2d826d43",
   "metadata": {},
   "source": [
    "### Significant Outliers Test"
   ]
  },
  {
   "cell_type": "code",
   "execution_count": 207,
   "id": "6bb43d2e",
   "metadata": {},
   "outputs": [
    {
     "name": "stdout",
     "output_type": "stream",
     "text": [
      "There were 8 outliers in the southwest group.\n",
      "There were 2 outliers in the southeast group.\n",
      "There were 7 outliers in the northwest group.\n",
      "There were 4 outliers in the northeast group.\n"
     ]
    }
   ],
   "source": [
    "# Check for significant outliers:\n",
    "\n",
    "for region_name, charges_df in regions.items():\n",
    "    # Identify outliers:\n",
    "    outliers = np.abs(stats.zscore(charges_df))>3\n",
    "    \n",
    "    # Outliers per region:\n",
    "    print(f\"There were {outliers.sum()} outliers in the {region_name} group.\")\n",
    "    \n",
    "    # Remove the outliers from dat and overwrite teh region dictionary:\n",
    "    charges_df = charges_df[~outliers]\n",
    "    \n",
    "    regions[region_name] = charges_df"
   ]
  },
  {
   "cell_type": "markdown",
   "id": "0275dff8",
   "metadata": {},
   "source": [
    "### Normality Test"
   ]
  },
  {
   "cell_type": "code",
   "execution_count": 188,
   "id": "923baa3b",
   "metadata": {},
   "outputs": [
    {
     "data": {
      "text/html": [
       "<div>\n",
       "<style scoped>\n",
       "    .dataframe tbody tr th:only-of-type {\n",
       "        vertical-align: middle;\n",
       "    }\n",
       "\n",
       "    .dataframe tbody tr th {\n",
       "        vertical-align: top;\n",
       "    }\n",
       "\n",
       "    .dataframe thead th {\n",
       "        text-align: right;\n",
       "    }\n",
       "</style>\n",
       "<table border=\"1\" class=\"dataframe\">\n",
       "  <thead>\n",
       "    <tr style=\"text-align: right;\">\n",
       "      <th></th>\n",
       "      <th>n</th>\n",
       "      <th>p</th>\n",
       "      <th>test sta</th>\n",
       "    </tr>\n",
       "  </thead>\n",
       "  <tbody>\n",
       "    <tr>\n",
       "      <th>southwest</th>\n",
       "      <td>325.0</td>\n",
       "      <td>6.125298e-23</td>\n",
       "      <td>102.294059</td>\n",
       "    </tr>\n",
       "    <tr>\n",
       "      <th>southeast</th>\n",
       "      <td>364.0</td>\n",
       "      <td>4.953297e-15</td>\n",
       "      <td>65.877446</td>\n",
       "    </tr>\n",
       "    <tr>\n",
       "      <th>northwest</th>\n",
       "      <td>325.0</td>\n",
       "      <td>5.184209e-24</td>\n",
       "      <td>107.232850</td>\n",
       "    </tr>\n",
       "    <tr>\n",
       "      <th>northeast</th>\n",
       "      <td>324.0</td>\n",
       "      <td>1.455431e-19</td>\n",
       "      <td>86.747629</td>\n",
       "    </tr>\n",
       "  </tbody>\n",
       "</table>\n",
       "</div>"
      ],
      "text/plain": [
       "               n             p    test sta\n",
       "southwest  325.0  6.125298e-23  102.294059\n",
       "southeast  364.0  4.953297e-15   65.877446\n",
       "northwest  325.0  5.184209e-24  107.232850\n",
       "northeast  324.0  1.455431e-19   86.747629"
      ]
     },
     "execution_count": 188,
     "metadata": {},
     "output_type": "execute_result"
    }
   ],
   "source": [
    "# Normality Test:\n",
    "\n",
    "# Normal test for each region to confirm that there are more than 20 samples in each group.\n",
    "\n",
    "test_results = {}\n",
    "\n",
    "for i, data in regions.items():\n",
    "    stat, p = stats.normaltest(data)\n",
    "    # save p value, test statistic, and the size of the group:\n",
    "    \n",
    "    test_results[i] = {'n': len(data),\n",
    "                      'p' : p,\n",
    "                      'test sta' : stat,}\n",
    "# Converst reuslts to DataFrame:\n",
    "test_results_df = pd.DataFrame(test_results).T\n",
    "test_results_df"
   ]
  },
  {
   "cell_type": "code",
   "execution_count": 208,
   "id": "2850374d",
   "metadata": {},
   "outputs": [
    {
     "data": {
      "text/html": [
       "<div>\n",
       "<style scoped>\n",
       "    .dataframe tbody tr th:only-of-type {\n",
       "        vertical-align: middle;\n",
       "    }\n",
       "\n",
       "    .dataframe tbody tr th {\n",
       "        vertical-align: top;\n",
       "    }\n",
       "\n",
       "    .dataframe thead th {\n",
       "        text-align: right;\n",
       "    }\n",
       "</style>\n",
       "<table border=\"1\" class=\"dataframe\">\n",
       "  <thead>\n",
       "    <tr style=\"text-align: right;\">\n",
       "      <th></th>\n",
       "      <th>n</th>\n",
       "      <th>p</th>\n",
       "      <th>test sta</th>\n",
       "      <th>sig</th>\n",
       "      <th>significance</th>\n",
       "    </tr>\n",
       "  </thead>\n",
       "  <tbody>\n",
       "    <tr>\n",
       "      <th>southwest</th>\n",
       "      <td>325.0</td>\n",
       "      <td>6.125298e-23</td>\n",
       "      <td>102.294059</td>\n",
       "      <td>True</td>\n",
       "      <td>True</td>\n",
       "    </tr>\n",
       "    <tr>\n",
       "      <th>southeast</th>\n",
       "      <td>364.0</td>\n",
       "      <td>4.953297e-15</td>\n",
       "      <td>65.877446</td>\n",
       "      <td>True</td>\n",
       "      <td>True</td>\n",
       "    </tr>\n",
       "    <tr>\n",
       "      <th>northwest</th>\n",
       "      <td>325.0</td>\n",
       "      <td>5.184209e-24</td>\n",
       "      <td>107.232850</td>\n",
       "      <td>True</td>\n",
       "      <td>True</td>\n",
       "    </tr>\n",
       "    <tr>\n",
       "      <th>northeast</th>\n",
       "      <td>324.0</td>\n",
       "      <td>1.455431e-19</td>\n",
       "      <td>86.747629</td>\n",
       "      <td>True</td>\n",
       "      <td>True</td>\n",
       "    </tr>\n",
       "  </tbody>\n",
       "</table>\n",
       "</div>"
      ],
      "text/plain": [
       "               n             p    test sta   sig  significance\n",
       "southwest  325.0  6.125298e-23  102.294059  True          True\n",
       "southeast  364.0  4.953297e-15   65.877446  True          True\n",
       "northwest  325.0  5.184209e-24  107.232850  True          True\n",
       "northeast  324.0  1.455431e-19   86.747629  True          True"
      ]
     },
     "execution_count": 208,
     "metadata": {},
     "output_type": "execute_result"
    }
   ],
   "source": [
    "# Checking sig with pandas:\n",
    "\n",
    "test_results_df['significance'] = test_results_df['p'] < .05 \n",
    "test_results_df"
   ]
  },
  {
   "cell_type": "markdown",
   "id": "94fb6fec",
   "metadata": {},
   "source": [
    "### Test for Equal Variance "
   ]
  },
  {
   "cell_type": "code",
   "execution_count": 196,
   "id": "9e8bc163",
   "metadata": {},
   "outputs": [
    {
     "data": {
      "text/plain": [
       "LeveneResult(statistic=5.559966758410606, pvalue=0.0008610590250786703)"
      ]
     },
     "execution_count": 196,
     "metadata": {},
     "output_type": "execute_result"
    }
   ],
   "source": [
    "# Test for Equal Variance:\n",
    "\n",
    "regionsLT = stats.levene(*regions.values())\n",
    "regionsLT"
   ]
  },
  {
   "cell_type": "code",
   "execution_count": 197,
   "id": "fae061fc",
   "metadata": {},
   "outputs": [
    {
     "name": "stdout",
     "output_type": "stream",
     "text": [
      "The groups ***DO NOT*** have equal variance\n"
     ]
    }
   ],
   "source": [
    "# If-else to interpret the p-value:\n",
    "\n",
    "if regionsLT.pvalue < 0.05:\n",
    "    print('The groups ***DO NOT*** have equal variance')\n",
    "    \n",
    "else:\n",
    "    print('The groups ***DO*** have equal variance')"
   ]
  },
  {
   "cell_type": "markdown",
   "id": "67ede327",
   "metadata": {},
   "source": [
    "***4. Execute the selected test, or the alternative test (if you do not meet the assumptions)***"
   ]
  },
  {
   "cell_type": "code",
   "execution_count": 216,
   "id": "4b078988",
   "metadata": {},
   "outputs": [
    {
     "name": "stdout",
     "output_type": "stream",
     "text": [
      "       Multiple Comparison of Means - Tukey HSD, FWER=0.50        \n",
      "==================================================================\n",
      "  group1    group2   meandiff  p-adj    lower      upper    reject\n",
      "------------------------------------------------------------------\n",
      "northeast northwest  -988.8091 0.7245 -2316.1729   338.5546  False\n",
      "northeast southeast  1329.0269 0.4745    37.6507  2620.4032   True\n",
      "northeast southwest -1059.4471 0.6792 -2386.8108   267.9166  False\n",
      "northwest southeast  2317.8361 0.0583  1027.5113  3608.1608   True\n",
      "northwest southwest    -70.638 0.9999 -1396.9787  1255.7027  False\n",
      "southeast southwest -2388.4741 0.0477 -3678.7988 -1098.1493   True\n",
      "------------------------------------------------------------------\n"
     ]
    }
   ],
   "source": [
    "# Post HOC Test:\n",
    "\n",
    "from statsmodels.stats.multicomp import pairwise_tukeyhsd\n",
    "\n",
    "regionsPWT = pairwise_tukeyhsd(endog = df['charges'], groups = df['region'], alpha = 0.5)\n",
    "\n",
    "print(regionsPWT)"
   ]
  },
  {
   "cell_type": "markdown",
   "id": "f76e3cfe",
   "metadata": {},
   "source": [
    "***5. Interpret your p-value and reject or fail to reject your null hypothesis*** \n",
    "\n"
   ]
  },
  {
   "cell_type": "markdown",
   "id": "02456a48",
   "metadata": {},
   "source": [
    "## Final Conclusion:¶\n",
    "\n",
    "Our p values are above the alpha value of 0.05, meaning that we fail to reject the null hypothesis - insurance charges do not necessarily vary due to region. "
   ]
  },
  {
   "cell_type": "markdown",
   "id": "386ef7fd",
   "metadata": {},
   "source": [
    "***6. Show a supporting visualization that helps display the result***"
   ]
  },
  {
   "cell_type": "code",
   "execution_count": 203,
   "id": "bf320177",
   "metadata": {},
   "outputs": [
    {
     "data": {
      "image/png": "[encoded data removed]",
      "text/plain": [
       "<Figure size 864x576 with 1 Axes>"
      ]
     },
     "metadata": {
      "needs_background": "light"
     },
     "output_type": "display_data"
    }
   ],
   "source": [
    "fig, axes = plt.subplots(nrows = 1, ncols = 1, sharey = True, figsize = (12,8))\n",
    "\n",
    "ax = sns.barplot(data = df, x ='region', y = 'charges');\n",
    "ax.set_title(\"Insurance Charges by Region\\n\", fontsize =20);\n"
   ]
  }
 ],
 "metadata": {
  "kernelspec": {
   "display_name": "Python (dojo-env)",
   "language": "python",
   "name": "dojo-env"
  },
  "language_info": {
   "codemirror_mode": {
    "name": "ipython",
    "version": 3
   },
   "file_extension": ".py",
   "mimetype": "text/x-python",
   "name": "python",
   "nbconvert_exporter": "python",
   "pygments_lexer": "ipython3",
   "version": "3.7.12"
  },
  "toc": {
   "base_numbering": 1,
   "nav_menu": {},
   "number_sections": true,
   "sideBar": true,
   "skip_h1_title": false,
   "title_cell": "Table of Contents",
   "title_sidebar": "Contents",
   "toc_cell": false,
   "toc_position": {},
   "toc_section_display": true,
   "toc_window_display": false
  }
 },
 "nbformat": 4,
 "nbformat_minor": 5
}
