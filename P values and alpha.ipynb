{
 "cells": [
  {
   "cell_type": "markdown",
   "id": "54db2f8e",
   "metadata": {},
   "source": [
    "### P-values and Alpha"
   ]
  },
  {
   "cell_type": "markdown",
   "id": "33b90efb",
   "metadata": {},
   "source": [
    "***Type 1 Error (False Negative)*** - You erroneously reject the null hypothesis when it is true. (You support the alternative hypothesis, when it is not true.)\n",
    "\n",
    "***Type 2 Error (False Negative)*** - You erroneously fail to reject the null hypothesis when it is not true. (You do not support the alternative hypothesis when it is true.)\n",
    "\n",
    "For any test, you must consider whether a Type 1 or Type 2 Error is more problematic.  Knowing this will help you define the \"significance value\" or \"alpha level\" of your test.  "
   ]
  },
  {
   "cell_type": "markdown",
   "id": "86cb7633",
   "metadata": {},
   "source": [
    " p-value (or “calculated probability”) is a measure of the probability that an observed difference/value could have occurred just by random chance.  The lower the p-value, the greater the statistical significance of the observed difference.\n",
    "After the p-value is calculated, it is compared to the alpha level. \n",
    "\n",
    "In simple terms:\n",
    "\n",
    "***if p < alpha***\n",
    "\n",
    "We reject the Null Hypothesis and support/accept the Alternative Hypothesis.\n",
    "\n",
    "***if p > alpha***\n",
    "\n",
    "We fail to reject the Null Hypothesis.\n"
   ]
  },
  {
   "cell_type": "markdown",
   "id": "0f2b9d1c",
   "metadata": {},
   "source": [
    "We want to determine the  probability that someone from the human population would have a height as large as our potential alien (or greater). In other words, what % of the probability (pdf) of our distribution has a height equal to or greater than our potential alien (78 inches)?"
   ]
  },
  {
   "cell_type": "code",
   "execution_count": 1,
   "id": "91c4316f",
   "metadata": {},
   "outputs": [],
   "source": [
    "# Imports:\n",
    "\n",
    "import pandas as pd\n",
    "import numpy as np\n",
    "import matplotlib.pyplot as plt\n",
    "import seaborn as sns\n",
    "import scipy.stats as stats"
   ]
  },
  {
   "cell_type": "code",
   "execution_count": 2,
   "id": "b874fb04",
   "metadata": {},
   "outputs": [],
   "source": [
    "# Load the Data:\n",
    "\n",
    "df = pd.read_csv('https://docs.google.com/spreadsheets/d/e/2PACX-1vRxp-hsw61ck9cpt5ExZIUhvSGT5zYzoUJl_7xr7YF5qZeazC8393q2taqwkDvMxVirgFDJm1WX3uAC/pub?output=csv')\n",
    "df.head()\n",
    "males = df.loc[ df['Gender'] == 'Male'].copy()\n",
    "females = df.loc[ df['Gender'] == 'Female'].copy()"
   ]
  },
  {
   "cell_type": "code",
   "execution_count": 5,
   "id": "c4edfc73",
   "metadata": {},
   "outputs": [],
   "source": [
    "# Define Statistical Metrics:\n",
    "\n",
    "data = males['Height']\n",
    "mean = np.mean(data)\n",
    "std = np.std(data)\n",
    "min = np.min(data)\n",
    "max = np.max(data)\n",
    "\n",
    "# Defining the low and high end of the range: \n",
    "\n",
    "low = 78\n",
    "high = max\n",
    "\n",
    "# Define the range of normal CDF:\n",
    "x_range  = np.linspace(min, max, 1000)"
   ]
  },
  {
   "cell_type": "code",
   "execution_count": 10,
   "id": "f6c268ec",
   "metadata": {},
   "outputs": [
    {
     "data": {
      "image/png": "[encoded data removed]",
      "text/plain": [
       "<Figure size 864x432 with 1 Axes>"
      ]
     },
     "metadata": {
      "needs_background": "light"
     },
     "output_type": "display_data"
    }
   ],
   "source": [
    "# Plot CDF with our x rnage highlighted:\n",
    "\n",
    "cdf = stats.norm.cdf(x_range, loc = mean, scale = std)\n",
    "fig, ax = plt.subplots(figsize = (12,6))\n",
    "\n",
    "sns.histplot(x = data, stat= 'density', cumulative = True)\n",
    "ax.plot(x_range,cdf)\n",
    "ax.axvline(low, color= 'black')\n",
    "ax.axvline(high, color ='black')\n",
    "ax.axvspan(low, high, color ='yellow', alpha =0.4, zorder = 0)\n",
    "ax.set_title('Range of Interest');"
   ]
  },
  {
   "cell_type": "code",
   "execution_count": 14,
   "id": "8f1be0d0",
   "metadata": {},
   "outputs": [
    {
     "data": {
      "text/plain": [
       "0.000861409975311811"
      ]
     },
     "execution_count": 14,
     "metadata": {},
     "output_type": "execute_result"
    }
   ],
   "source": [
    "# To get eth probability of 78 inches OR taller:\n",
    "\n",
    "1-stats.norm.cdf(78, loc = np.mean(data), scale = np.std(data))"
   ]
  },
  {
   "cell_type": "markdown",
   "id": "6665a23a",
   "metadata": {},
   "source": [
    "#### ***As the alpha gets smaller, the likelihood of rejecting the null hypothesis and supporting your alternative goes down.*** "
   ]
  },
  {
   "cell_type": "markdown",
   "id": "2a9e2b15",
   "metadata": {},
   "source": [
    "***if p < alpha***\n",
    "\n",
    "We reject the Null Hypothesis and support/accept the Alternative Hypothesis.\n",
    "\n",
    "***if p > alpha***\n",
    "\n",
    "We fail to reject the Null Hypothesis.\n",
    "\n",
    "### ***our p-value of .0008 is less than , so we reject the null hypothesis***"
   ]
  }
 ],
 "metadata": {
  "kernelspec": {
   "display_name": "Python (dojo-env)",
   "language": "python",
   "name": "dojo-env"
  },
  "language_info": {
   "codemirror_mode": {
    "name": "ipython",
    "version": 3
   },
   "file_extension": ".py",
   "mimetype": "text/x-python",
   "name": "python",
   "nbconvert_exporter": "python",
   "pygments_lexer": "ipython3",
   "version": "3.7.12"
  },
  "toc": {
   "base_numbering": 1,
   "nav_menu": {},
   "number_sections": true,
   "sideBar": true,
   "skip_h1_title": false,
   "title_cell": "Table of Contents",
   "title_sidebar": "Contents",
   "toc_cell": false,
   "toc_position": {},
   "toc_section_display": true,
   "toc_window_display": false
  }
 },
 "nbformat": 4,
 "nbformat_minor": 5
}
